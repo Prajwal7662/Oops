{
  "nbformat": 4,
  "nbformat_minor": 0,
  "metadata": {
    "colab": {
      "provenance": []
    },
    "kernelspec": {
      "name": "python3",
      "display_name": "Python 3"
    },
    "language_info": {
      "name": "python"
    }
  },
  "cells": [
    {
      "cell_type": "markdown",
      "source": [
        "#Oops\n",
        "\n",
        "1. What is Object-Oriented Programming (OOP)?\n",
        "  -  Object-Oriented Programming (OOP) is a popular programming paradigm used to design and develop software. It organizes code into objects, which are instances of classes.\n",
        "\n",
        "2. What is a class in OOP?\n",
        " - In Object-Oriented Programming (OOP), a class is a blueprint or template for creating objects. It defines a set of attributes (also known as fields or properties) and methods (also known as functions or behaviors) that the created objects will have.\n",
        "\n",
        "3. What is an object in OOP?\n",
        " - In Object-Oriented Programming (OOP), an object is an instance of a class. It is a self-contained entity that combines data and behavior, representing a specific entity in your program.\n",
        "\n",
        "4. What is the difference between abstraction and encapsulation?\n",
        " - Abstraction is about hiding complex details and showing only the essentials.\n",
        "\n",
        " Encapsulation is about bundling data and methods together and restricting access to protect the object's internal state.\n",
        "\n",
        "5. What are dunder methods in Python?\n",
        " - Dunder methods, short for \"double underscore\" methods, are special methods in Python that begin and end with double underscores (__). They are also known as \"magic methods\" because they enable you to define the behavior of objects for built-in operations.\n",
        "\n",
        "6. Explain the concept of inheritance in OOP.\n",
        " - Inheritance is a core concept in Object-Oriented Programming (OOP) that allows a class to inherit attributes and methods from another class. The class that is inherited from is called the \"parent class\" or \"base class\".\n",
        "\n",
        "7. What is polymorphism in OOP?\n",
        " - Polymorphism is a fundamental concept in Object-Oriented Programming (OOP) that allows objects of different classes to be treated as objects of a common superclass.\n",
        "\n",
        "8. How is encapsulation achieved in Python?\n",
        " - Encapsulation in Python is achieved by restricting access to certain attributes and methods within a class. This is done using access modifiers.\n",
        "\n",
        "9. What is a constructor in Python?\n",
        " - In Python, a constructor is a special method that is automatically called when an object of a class is created. The purpose of the constructor is to initialize the object's attributes with default or specific values.\n",
        "\n",
        "10. What are class and static methods in Python?\n",
        " - Class methods can access and modify class-level attributes and are useful for operations that relate to the class as a whole.\n",
        "\n",
        " Static methods are utility functions that do not need access to the class or instance attributes and are used for tasks that logically belong to the class.\n",
        "\n",
        "11. What is method overloading in Python?\n",
        " - In Python, method overloading, as seen in some other programming languages, does not work in the traditional sense. Python does not support method overloading directly because it doesn't have built-in support for defining multiple methods with the same name but different parameter lists within the same class.\n",
        "\n",
        " However, you can achieve similar functionality using default arguments or variable-length argument lists.\n",
        "\n",
        "12. What is method overriding in OOP?\n",
        " -  Method overriding is an important concept in Object-Oriented Programming (OOP) that allows a subclass to provide a specific implementation of a method that is already defined in its superclass. When a method in a subclass has the same name, return type, and parameters as a method in its superclass, the method in the subclass overrides the method in the superclass.\n",
        "\n",
        "13.  What is a property decorator in Python?\n",
        " - In Python, a property decorator is a built-in function that allows you to define methods in a class that can be accessed like attributes. This provides a way to encapsulate and manage the access to an object's attributes, providing getter, setter, and deleter functionality for an attribute.\n",
        "\n",
        "14.  Why is polymorphism important in OOP?\n",
        " - Polymorphism is a cornerstone of OOP that enhances code reusability, flexibility, maintainability, and readability, making it a vital concept for developing robust and scalable software.\n",
        "\n",
        "15. What is an abstract class in Python?\n",
        " -  An abstract class in Python is a class that cannot be instantiated directly and is meant to be subclassed. It provides a blueprint for other classes and may include abstract methods that must be implemented by the subclasses.\n",
        "\n",
        "16. What are the advantages of OOP?\n",
        " -  Modularity: Breaks down complex problems into manageable pieces.\n",
        "\n",
        " Reusability: Reuse code across different programs.\n",
        "\n",
        " Encapsulation: Protects data and methods within objects.\n",
        "\n",
        " Inheritance: Promotes code reuse through class hierarchies.\n",
        "\n",
        " Polymorphism: Enables methods to behave differently based on the object's type.\n",
        "\n",
        " Maintainability: Easier to update and debug code.\n",
        "\n",
        " Real-World Modeling: Models real-world entities and interactions.\n",
        "\n",
        " Collaboration: Facilitates team collaboration with clear interfaces.\n",
        "\n",
        "17. What is the difference between a class variable and an instance variable?\n",
        " - Class Variable\n",
        "\n",
        " Scope: Shared among all instances of the class.\n",
        "\n",
        " Access: Accessed using the class name or through any instance of the class.\n",
        "\n",
        " Usage: Typically used to define attributes that should be the same for all instances.\n",
        "\n",
        "\n",
        "  - Instance Variable\n",
        "\n",
        "   Scope: Unique to each instance of the class.\n",
        "\n",
        "   Access: Accessed using the self keyword and unique to each object.\n",
        "\n",
        "   Usage: Used to define attributes that can vary from one instance to another.  \n",
        "\n",
        "18. What is multiple inheritance in Python?\n",
        "  - Multiple inheritance is a feature in Python where a class can inherit attributes and methods from more than one parent class. This allows a child class to combine and extend the functionality of multiple parent classes.\n",
        "\n",
        "19. Explain the purpose of ‘’__str__’ and ‘__repr__’ ‘ methods in Python.\n",
        " - __str__ Method\n",
        "Purpose: Provides a human-readable string representation of an object.\n",
        "\n",
        "- __repr__ Method\n",
        "\n",
        "Purpose: Provides an unambiguous string representation of an object that can be used to reproduce the object. It is mainly used for debugging and development.\n",
        "\n",
        "20. What is the significance of the ‘super()’ function in Python?\n",
        " - The super() function in Python is used to call methods from a parent (or superclass) within a subclass. This is particularly useful in the context of inheritance, where you want to extend or modify the behavior of the parent class while still preserving the base functionality.\n",
        "\n",
        "21. What is the significance of the __del__ method in Python?\n",
        " - The __del__ method in Python is a special method, also known as a destructor, that is called when an object is about to be destroyed. It allows you to define custom cleanup behavior when an object is garbage collected. However, the use of the __del__ method is generally discouraged because it can lead to complex and unpredictable behavior, especially in the context of garbage collection and reference cycles.\n",
        "\n",
        "22. What is the difference between @staticmethod and @classmethod in Python?\n",
        " -  @staticmethod\n",
        "\n",
        "Definition: A static method is a method that does not receive an implicit first argument (neither self nor cls).\n",
        "\n",
        "Decorator: @staticmethod\n",
        "\n",
        "Usage: Static methods do not operate on an instance or the class itself. They are utility functions that belong to the class's namespace.\n",
        "\n",
        "Access: Cannot modify the state of the instance or the class.\n",
        "\n",
        "- @classmethod\n",
        "\n",
        "Definition: A class method is a method that receives the class as its first argument, which is usually named cls.\n",
        "\n",
        "Decorator: @classmethod\n",
        "\n",
        "Usage: Class methods can access and modify class-level attributes. They are often used for factory methods or methods that operate on the class itself.\n",
        "\n",
        "Access: Can modify the state of the class but not the instance-specific attributes.\n",
        "\n",
        "23. How does polymorphism work in Python with inheritance?\n",
        " -  Polymorphism in Python, especially when combined with inheritance, allows objects of different classes to be treated as objects of a common superclass. This enables methods to behave differently based on the object's class, providing a unified interface for different underlying implementations\n",
        "\n",
        "24. What is method chaining in Python OOP?\n",
        " - Method chaining in Python Object-Oriented Programming (OOP) is a technique that allows you to call multiple methods on the same object in a single line of code. This is achieved by having each method return the object itself (usually self) so that subsequent methods can be called on that object.\n",
        "\n",
        "25. What is the purpose of the __call__ method in Python?\n",
        " - The __call__ method in Python is a special method that allows an instance of a class to be called as if it were a function. By defining the __call__ method within a class, you enable instances of that class to be invoked with the function call syntax. This can be particularly useful for creating objects that need to be executed like functions, providing a clean and intuitive interface.  \n",
        "\n",
        "\n",
        "\n",
        "\n"
      ],
      "metadata": {
        "id": "ll8gzfBT1b6e"
      }
    },
    {
      "cell_type": "code",
      "execution_count": 1,
      "metadata": {
        "colab": {
          "base_uri": "https://localhost:8080/"
        },
        "id": "9B6j06JG1Xuk",
        "outputId": "af2061ba-b2cb-4cb2-ff7b-d9cefd7cb40c"
      },
      "outputs": [
        {
          "output_type": "stream",
          "name": "stdout",
          "text": [
            "Some generic animal sound\n",
            "Bark!\n"
          ]
        }
      ],
      "source": [
        "# Create a parent class Animal with a method speak() that prints a generic message. Create a child class Dog\n",
        "# that overrides the speak() method to print \"Bark!\".\n",
        "\n",
        "class Animal:\n",
        "    def speak(self):\n",
        "        print(\"Some generic animal sound\")\n",
        "\n",
        "class Dog(Animal):\n",
        "    def speak(self):\n",
        "        print(\"Bark!\")\n",
        "\n",
        "# Creating objects\n",
        "generic_animal = Animal()\n",
        "dog = Dog()\n",
        "\n",
        "# Calling the speak method\n",
        "generic_animal.speak()\n",
        "dog.speak()\n"
      ]
    },
    {
      "cell_type": "code",
      "source": [
        "#Write a program to create an abstract class Shape with a method area(). Derive classes Circle and Rectangle\n",
        "# from it and implement the area() method in both.\n",
        "\n",
        "from abc import ABC, abstractmethod\n",
        "import math\n",
        "\n",
        "class Shape(ABC):\n",
        "    @abstractmethod\n",
        "    def area(self):\n",
        "        pass\n",
        "\n",
        "class Circle(Shape):\n",
        "    def __init__(self, radius):\n",
        "        self.radius = radius\n",
        "\n",
        "    def area(self):\n",
        "        return math.pi * self.radius ** 2\n",
        "\n",
        "class Rectangle(Shape):\n",
        "    def __init__(self, width, height):\n",
        "        self.width = width\n",
        "        self.height = height\n",
        "\n",
        "    def area(self):\n",
        "        return self.width * self.height\n",
        "\n",
        "# Creating objects\n",
        "circle = Circle(5)\n",
        "rectangle = Rectangle(4, 6)\n",
        "\n",
        "# Calculating and printing areas\n",
        "print(f\"Area of the circle: {circle.area()}\")\n",
        "print(f\"Area of the rectangle: {rectangle.area()}\")\n"
      ],
      "metadata": {
        "colab": {
          "base_uri": "https://localhost:8080/"
        },
        "id": "hfu1r_3l9Vo6",
        "outputId": "4328e30a-8b57-4593-b411-2db5c27bd200"
      },
      "execution_count": 2,
      "outputs": [
        {
          "output_type": "stream",
          "name": "stdout",
          "text": [
            "Area of the circle: 78.53981633974483\n",
            "Area of the rectangle: 24\n"
          ]
        }
      ]
    },
    {
      "cell_type": "code",
      "source": [
        "# Implement a multi-level inheritance scenario where a class Vehicle has an attribute type. Derive a class Car\n",
        "# and further derive a class ElectricCar that adds a battery attribute.\n",
        "\n",
        "class Vehicle:\n",
        "    def __init__(self, vehicle_type):\n",
        "        self.type = vehicle_type\n",
        "\n",
        "    def display_info(self):\n",
        "        print(f\"Vehicle type: {self.type}\")\n",
        "\n",
        "class Car(Vehicle):\n",
        "    def __init__(self, vehicle_type, make, model):\n",
        "        super().__init__(vehicle_type)\n",
        "        self.make = make\n",
        "        self.model = model\n",
        "\n",
        "    def display_info(self):\n",
        "        super().display_info()\n",
        "        print(f\"Car make: {self.make}\")\n",
        "        print(f\"Car model: {self.model}\")\n",
        "\n",
        "class ElectricCar(Car):\n",
        "    def __init__(self, vehicle_type, make, model, battery_capacity):\n",
        "        super().__init__(vehicle_type, make, model)\n",
        "        self.battery_capacity = battery_capacity\n",
        "\n",
        "    def display_info(self):\n",
        "        super().display_info()\n",
        "        print(f\"Battery capacity: {self.battery_capacity} kWh\")\n",
        "\n",
        "# Creating an object of the ElectricCar class\n",
        "my_electric_car = ElectricCar(\"Electric\", \"Tesla\", \"Model S\", 100)\n",
        "\n",
        "# Displaying information\n",
        "my_electric_car.display_info()\n",
        "\n"
      ],
      "metadata": {
        "colab": {
          "base_uri": "https://localhost:8080/"
        },
        "id": "46Ix-AOy9iLZ",
        "outputId": "cd354d65-5bfa-44f1-a66f-53d9e972ea77"
      },
      "execution_count": 3,
      "outputs": [
        {
          "output_type": "stream",
          "name": "stdout",
          "text": [
            "Vehicle type: Electric\n",
            "Car make: Tesla\n",
            "Car model: Model S\n",
            "Battery capacity: 100 kWh\n"
          ]
        }
      ]
    },
    {
      "cell_type": "code",
      "source": [
        "# Demonstrate polymorphism by creating a base class Bird with a method fly(). Create two derived classes\n",
        "# Sparrow and Penguin that override the fly() method.\n",
        "\n",
        "class Bird:\n",
        "    def fly(self):\n",
        "        print(\"This bird can fly.\")\n",
        "\n",
        "class Sparrow(Bird):\n",
        "    def fly(self):\n",
        "        print(\"The sparrow flies high in the sky.\")\n",
        "\n",
        "class Penguin(Bird):\n",
        "    def fly(self):\n",
        "        print(\"The penguin cannot fly but swims instead.\")\n",
        "\n",
        "# Function to demonstrate polymorphism\n",
        "def demonstrate_flying(bird):\n",
        "    bird.fly()\n",
        "\n",
        "# Creating objects\n",
        "sparrow = Sparrow()\n",
        "penguin = Penguin()\n",
        "\n",
        "# Using polymorphism\n",
        "demonstrate_flying(sparrow)\n",
        "demonstrate_flying(penguin)\n"
      ],
      "metadata": {
        "colab": {
          "base_uri": "https://localhost:8080/"
        },
        "id": "fdWb7r7d9tZN",
        "outputId": "f758e984-ef91-4773-a2bc-68ed04f9e480"
      },
      "execution_count": 4,
      "outputs": [
        {
          "output_type": "stream",
          "name": "stdout",
          "text": [
            "The sparrow flies high in the sky.\n",
            "The penguin cannot fly but swims instead.\n"
          ]
        }
      ]
    },
    {
      "cell_type": "code",
      "source": [
        "# Write a program to demonstrate encapsulation by creating a class BankAccount with private attributes\n",
        "# balance and methods to deposit, withdraw, and check balance.\n",
        "\n",
        "class BankAccount:\n",
        "    def __init__(self, initial_balance=0):\n",
        "        self.__balance = initial_balance\n",
        "\n",
        "    def deposit(self, amount):\n",
        "        if amount > 0:\n",
        "            self.__balance += amount\n",
        "            print(f\"Deposited: {amount}\")\n",
        "        else:\n",
        "            print(\"Deposit amount must be positive\")\n",
        "\n",
        "    def withdraw(self, amount):\n",
        "        if 0 < amount <= self.__balance:\n",
        "            self.__balance -= amount\n",
        "            print(f\"Withdrawn: {amount}\")\n",
        "        else:\n",
        "            print(\"Invalid withdrawal amount or insufficient funds\")\n",
        "\n",
        "    def check_balance(self):\n",
        "        print(f\"Current balance: {self.__balance}\")\n",
        "\n",
        "# Creating a BankAccount object\n",
        "account = BankAccount(100)\n",
        "\n",
        "# Demonstrating encapsulation with methods\n",
        "account.deposit(50)\n",
        "account.check_balance()\n",
        "account.withdraw(30)\n",
        "account.check_balance()\n",
        "\n"
      ],
      "metadata": {
        "colab": {
          "base_uri": "https://localhost:8080/"
        },
        "id": "JNJxAdvT94xq",
        "outputId": "2f128a78-c10b-489c-f905-7c6c9523df54"
      },
      "execution_count": 5,
      "outputs": [
        {
          "output_type": "stream",
          "name": "stdout",
          "text": [
            "Deposited: 50\n",
            "Current balance: 150\n",
            "Withdrawn: 30\n",
            "Current balance: 120\n"
          ]
        }
      ]
    },
    {
      "cell_type": "code",
      "source": [
        "#Demonstrate runtime polymorphism using a method play() in a base class Instrument. Derive classes Guitar\n",
        "# and Piano that implement their own version of play()\n",
        "\n",
        "class Instrument:\n",
        "    def play(self):\n",
        "        raise NotImplementedError(\"Subclass must implement this method\")\n",
        "\n",
        "class Guitar(Instrument):\n",
        "    def play(self):\n",
        "        print(\"Playing the guitar with strumming chords.\")\n",
        "\n",
        "class Piano(Instrument):\n",
        "    def play(self):\n",
        "        print(\"Playing the piano with melodious keys.\")\n",
        "\n",
        "# Function to demonstrate polymorphism\n",
        "def demonstrate_playing(instrument):\n",
        "    instrument.play()\n",
        "\n",
        "# Creating objects\n",
        "guitar = Guitar()\n",
        "piano = Piano()\n",
        "\n",
        "# Using polymorphism\n",
        "demonstrate_playing(guitar)\n",
        "demonstrate_playing(piano)\n"
      ],
      "metadata": {
        "colab": {
          "base_uri": "https://localhost:8080/"
        },
        "id": "DWjJ0r0r-EtC",
        "outputId": "927cc55d-5327-47d4-c0bd-ca12fdc829a7"
      },
      "execution_count": 6,
      "outputs": [
        {
          "output_type": "stream",
          "name": "stdout",
          "text": [
            "Playing the guitar with strumming chords.\n",
            "Playing the piano with melodious keys.\n"
          ]
        }
      ]
    },
    {
      "cell_type": "code",
      "source": [
        "#Create a class MathOperations with a class method add_numbers() to add two numbers and a static\n",
        "# method subtract_numbers() to subtract two numbers.\n",
        "\n",
        "class MathOperations:\n",
        "    @classmethod\n",
        "    def add_numbers(cls, a, b):\n",
        "        return a + b\n",
        "\n",
        "    @staticmethod\n",
        "    def subtract_numbers(a, b):\n",
        "        return a - b\n",
        "\n",
        "# Using the class method to add numbers\n",
        "result_add = MathOperations.add_numbers(10, 5)\n",
        "print(f\"Addition Result: {result_add}\")  # Output: Addition Result: 15\n",
        "\n",
        "# Using the static method to subtract numbers\n",
        "result_subtract = MathOperations.subtract_numbers(10, 5)\n",
        "print(f\"Subtraction Result: {result_subtract}\")\n"
      ],
      "metadata": {
        "colab": {
          "base_uri": "https://localhost:8080/"
        },
        "id": "3JMNECsN-Ozw",
        "outputId": "f4c3583f-cdf0-469f-8bbc-556c335bd9ac"
      },
      "execution_count": 7,
      "outputs": [
        {
          "output_type": "stream",
          "name": "stdout",
          "text": [
            "Addition Result: 15\n",
            "Subtraction Result: 5\n"
          ]
        }
      ]
    },
    {
      "cell_type": "code",
      "source": [
        "# Implement a class Person with a class method to count the total number of persons created\n",
        "\n",
        "class Person:\n",
        "    total_persons = 0  # Class variable to keep track of the total number of persons\n",
        "\n",
        "    def __init__(self, name):\n",
        "        self.name = name\n",
        "        Person.total_persons += 1\n",
        "\n",
        "    @classmethod\n",
        "    def get_total_persons(cls):\n",
        "        return cls.total_persons\n",
        "\n",
        "# Creating instances of Person\n",
        "person1 = Person(\"Alice\")\n",
        "person2 = Person(\"Bob\")\n",
        "person3 = Person(\"Charlie\")\n",
        "\n",
        "# Using the class method to get the total number of persons created\n",
        "print(f\"Total persons created: {Person.get_total_persons()}\")\n",
        ""
      ],
      "metadata": {
        "colab": {
          "base_uri": "https://localhost:8080/"
        },
        "id": "ScP-o0md-YKr",
        "outputId": "3f3caa6a-12aa-4a46-eea3-77cc27511d00"
      },
      "execution_count": 8,
      "outputs": [
        {
          "output_type": "stream",
          "name": "stdout",
          "text": [
            "Total persons created: 3\n"
          ]
        }
      ]
    },
    {
      "cell_type": "code",
      "source": [
        "#Write a class Fraction with attributes numerator and denominator. Override the str method to display the\n",
        "# fraction as \"numerator/denominator\".\n",
        "\n",
        "class Fraction:\n",
        "    def __init__(self, numerator, denominator):\n",
        "        self.numerator = numerator\n",
        "        self.denominator = denominator\n",
        "\n",
        "    def __str__(self):\n",
        "        return f\"{self.numerator}/{self.denominator}\"\n",
        "\n",
        "# Creating an object of the Fraction class\n",
        "fraction = Fraction(3, 4)\n",
        "\n",
        "# Printing the fraction\n",
        "print(fraction)\n"
      ],
      "metadata": {
        "colab": {
          "base_uri": "https://localhost:8080/"
        },
        "id": "BoK3xHdr-jFy",
        "outputId": "72e04dfe-5f73-49ce-f306-d18a760f4981"
      },
      "execution_count": 9,
      "outputs": [
        {
          "output_type": "stream",
          "name": "stdout",
          "text": [
            "3/4\n"
          ]
        }
      ]
    },
    {
      "cell_type": "code",
      "source": [
        "# Demonstrate operator overloading by creating a class Vector and overriding the add method to add two\n",
        "# vectors.\n",
        "\n",
        "class Vector:\n",
        "    def __init__(self, x, y):\n",
        "        self.x = x\n",
        "        self.y = y\n",
        "\n",
        "    def __add__(self, other):\n",
        "        if isinstance(other, Vector):\n",
        "            return Vector(self.x + other.x, self.y + other.y)\n",
        "        raise TypeError(\"Operands must be of type Vector\")\n",
        "\n",
        "    def __str__(self):\n",
        "        return f\"Vector({self.x}, {self.y})\"\n",
        "\n",
        "# Creating vector objects\n",
        "vector1 = Vector(2, 3)\n",
        "vector2 = Vector(4, 5)\n",
        "\n",
        "# Adding two vectors using the + operator\n",
        "result = vector1 + vector2\n",
        "\n",
        "# Displaying the result\n",
        "print(result)\n"
      ],
      "metadata": {
        "colab": {
          "base_uri": "https://localhost:8080/"
        },
        "id": "q62DqTTZ-qfC",
        "outputId": "694cd349-f5c0-41e3-fd08-a6f01e0c73c9"
      },
      "execution_count": 11,
      "outputs": [
        {
          "output_type": "stream",
          "name": "stdout",
          "text": [
            "Vector(6, 8)\n"
          ]
        }
      ]
    },
    {
      "cell_type": "code",
      "source": [
        "#Create a class Person with attributes name and age. Add a method greet() that prints \"Hello, my name is\n",
        "# {name} and I am {age} years old.\"\n",
        "\n",
        "class Person:\n",
        "    def __init__(self, name, age):\n",
        "        self.name = name\n",
        "        self.age = age\n",
        "\n",
        "    def greet(self):\n",
        "        print(f\"Hello, my name is {self.name} and I am {self.age} years old.\")\n",
        "\n",
        "# Creating an object of the Person class\n",
        "person1 = Person(\"Alice\", 30)\n",
        "\n",
        "# Calling the greet method\n",
        "person1.greet()"
      ],
      "metadata": {
        "colab": {
          "base_uri": "https://localhost:8080/"
        },
        "id": "r34grPYJ-2E9",
        "outputId": "f699bdcd-d1ab-4737-e1ce-d5b69ca2b63d"
      },
      "execution_count": 12,
      "outputs": [
        {
          "output_type": "stream",
          "name": "stdout",
          "text": [
            "Hello, my name is Alice and I am 30 years old.\n"
          ]
        }
      ]
    },
    {
      "cell_type": "code",
      "source": [
        "# Implement a class Student with attributes name and grades. Create a method average_grade() to compute\n",
        "# the average of the grades\n",
        "\n",
        "class Student:\n",
        "    def __init__(self, name, grades):\n",
        "        self.name = name\n",
        "        self.grades = grades\n",
        "\n",
        "    def average_grade(self):\n",
        "        if not self.grades:\n",
        "            return 0\n",
        "        return sum(self.grades) / len(self.grades)\n",
        "\n",
        "# Creating an object of the Student class\n",
        "student1 = Student(\"John\", [90, 85, 88, 92])\n",
        "\n",
        "# Calculating and printing the average grade\n",
        "average = student1.average_grade()\n",
        "print(f\"{student1.name}'s average grade is: {average:.2f}\")\n",
        "\n",
        "\n",
        ""
      ],
      "metadata": {
        "colab": {
          "base_uri": "https://localhost:8080/"
        },
        "id": "Rf6ny5-F--n8",
        "outputId": "86c0452f-87c6-447a-8bb8-fabb3773ba25"
      },
      "execution_count": 13,
      "outputs": [
        {
          "output_type": "stream",
          "name": "stdout",
          "text": [
            "John's average grade is: 88.75\n"
          ]
        }
      ]
    },
    {
      "cell_type": "code",
      "source": [
        "#Create a class Rectangle with methods set_dimensions() to set the dimensions and area() to calculate the\n",
        "# area.\n",
        "\n",
        "class Rectangle:\n",
        "    def __init__(self):\n",
        "        self.width = 0\n",
        "        self.height = 0\n",
        "\n",
        "    def set_dimensions(self, width, height):\n",
        "        self.width = width\n",
        "        self.height = height\n",
        "\n",
        "    def area(self):\n",
        "        return self.width * self.height\n",
        "\n",
        "# Creating an object of the Rectangle class\n",
        "rectangle = Rectangle()\n",
        "\n",
        "# Setting dimensions\n",
        "rectangle.set_dimensions(4, 5)\n",
        "\n",
        "# Calculating and printing the area\n",
        "print(f\"Area of the rectangle: {rectangle.area()}\")"
      ],
      "metadata": {
        "colab": {
          "base_uri": "https://localhost:8080/"
        },
        "id": "O5V8MXAM_GhM",
        "outputId": "89c35125-7682-4d78-eb0a-9f45df772ba5"
      },
      "execution_count": 14,
      "outputs": [
        {
          "output_type": "stream",
          "name": "stdout",
          "text": [
            "Area of the rectangle: 20\n"
          ]
        }
      ]
    },
    {
      "cell_type": "code",
      "source": [
        "# Create a class Employee with a method calculate_salary() that computes the salary based on hours worked\n",
        "# and hourly rate. Create a derived class Manager that adds a bonus to the salary.\n",
        "\n",
        "class Employee:\n",
        "    def __init__(self, name, hours_worked, hourly_rate):\n",
        "        self.name = name\n",
        "        self.hours_worked = hours_worked\n",
        "        self.hourly_rate = hourly_rate\n",
        "\n",
        "    def calculate_salary(self):\n",
        "        return self.hours_worked * self.hourly_rate\n",
        "\n",
        "class Manager(Employee):\n",
        "    def __init__(self, name, hours_worked, hourly_rate, bonus):\n",
        "        super().__init__(name, hours_worked, hourly_rate)\n",
        "        self.bonus = bonus\n",
        "\n",
        "    def calculate_salary(self):\n",
        "        base_salary = super().calculate_salary()\n",
        "        return base_salary + self.bonus\n",
        "\n",
        "# Creating objects of Employee and Manager classes\n",
        "employee = Employee(\"John\", 160, 20)\n",
        "manager = Manager(\"Alice\", 160, 30, 500)\n",
        "\n",
        "# Calculating and printing salaries\n",
        "print(f\"{employee.name}'s salary: ${employee.calculate_salary()}\")\n",
        "print(f\"{manager.name}'s salary: ${manager.calculate_salary()}\")\n"
      ],
      "metadata": {
        "colab": {
          "base_uri": "https://localhost:8080/"
        },
        "id": "Ev_sJ5gQ_Nb6",
        "outputId": "398a22c9-de7e-445b-ef23-766581b9dfde"
      },
      "execution_count": 16,
      "outputs": [
        {
          "output_type": "stream",
          "name": "stdout",
          "text": [
            "John's salary: $3200\n",
            "Alice's salary: $5300\n"
          ]
        }
      ]
    },
    {
      "cell_type": "code",
      "source": [
        "#Create a class Product with attributes name, price, and quantity. Implement a method total_price() that\n",
        "# calculates the total price of the product\n",
        "\n",
        "class Product:\n",
        "    def __init__(self, name, price, quantity):\n",
        "        self.name = name\n",
        "        self.price = price\n",
        "        self.quantity = quantity\n",
        "\n",
        "    def total_price(self):\n",
        "        return self.price * self.quantity\n",
        "\n",
        "# Creating an object of the Product class\n",
        "product = Product(\"Laptop\", 1000, 3)\n",
        "\n",
        "# Calculating and printing the total price\n",
        "print(f\"Total price of {product.name}: ${product.total_price()}\")\n"
      ],
      "metadata": {
        "colab": {
          "base_uri": "https://localhost:8080/"
        },
        "id": "4FRpDo0m_X4S",
        "outputId": "a0a5dbd6-5eb4-4b64-b92c-260c98f52521"
      },
      "execution_count": 17,
      "outputs": [
        {
          "output_type": "stream",
          "name": "stdout",
          "text": [
            "Total price of Laptop: $3000\n"
          ]
        }
      ]
    },
    {
      "cell_type": "code",
      "source": [
        "# Create a class Animal with an abstract method sound(). Create two derived classes Cow and Sheep that\n",
        "# implement the sound() method.\n",
        "\n",
        "from abc import ABC, abstractmethod\n",
        "\n",
        "class Animal(ABC):\n",
        "    @abstractmethod\n",
        "    def sound(self):\n",
        "        pass\n",
        "\n",
        "class Cow(Animal):\n",
        "    def sound(self):\n",
        "        print(\"Moo\")\n",
        "\n",
        "class Sheep(Animal):\n",
        "    def sound(self):\n",
        "        print(\"Baa\")\n",
        "\n",
        "# Creating objects of Cow and Sheep classes\n",
        "cow = Cow()\n",
        "sheep = Sheep()\n",
        "\n",
        "# Calling the sound method\n",
        "cow.sound()\n",
        "sheep.sound()\n"
      ],
      "metadata": {
        "colab": {
          "base_uri": "https://localhost:8080/"
        },
        "id": "KoRsP0kY_ehZ",
        "outputId": "83152f23-6c72-4172-9eac-90d0123b2565"
      },
      "execution_count": 18,
      "outputs": [
        {
          "output_type": "stream",
          "name": "stdout",
          "text": [
            "Moo\n",
            "Baa\n"
          ]
        }
      ]
    },
    {
      "cell_type": "code",
      "source": [
        "#Create a class Book with attributes title, author, and year_published. Add a method get_book_info() that\n",
        "# returns a formatted string with the book's details.\n",
        "\n",
        "class Book:\n",
        "    def __init__(self, title, author, year_published):\n",
        "        self.title = title\n",
        "        self.author = author\n",
        "        self.year_published = year_published\n",
        "\n",
        "    def get_book_info(self):\n",
        "        return f\"Title: {self.title}, Author: {self.author}, Year Published: {self.year_published}\"\n",
        "\n",
        "# Creating an object of the Book class\n",
        "book = Book(\"1984\", \"George Orwell\", 1949)\n",
        "\n",
        "# Getting and printing the book's details\n",
        "print(book.get_book_info())\n",
        "\n"
      ],
      "metadata": {
        "colab": {
          "base_uri": "https://localhost:8080/"
        },
        "id": "dIFUjqjv_lSA",
        "outputId": "75b7b47f-c7f7-4df2-b496-8baca6a155e3"
      },
      "execution_count": 19,
      "outputs": [
        {
          "output_type": "stream",
          "name": "stdout",
          "text": [
            "Title: 1984, Author: George Orwell, Year Published: 1949\n"
          ]
        }
      ]
    },
    {
      "cell_type": "code",
      "source": [
        "#Create a class House with attributes address and price. Create a derived class Mansion that adds an\n",
        "# attribute number_of_rooms.]\n",
        "\n",
        "class House:\n",
        "    def __init__(self, address, price):\n",
        "        self.address = address\n",
        "        self.price = price\n",
        "\n",
        "    def display_info(self):\n",
        "        print(f\"Address: {self.address}\")\n",
        "        print(f\"Price: ${self.price}\")\n",
        "\n",
        "class Mansion(House):\n",
        "    def __init__(self, address, price, number_of_rooms):\n",
        "        super().__init__(address, price)\n",
        "        self.number_of_rooms = number_of_rooms\n",
        "\n",
        "    def display_info(self):\n",
        "        super().display_info()\n",
        "        print(f\"Number of Rooms: {self.number_of_rooms}\")\n",
        "\n",
        "# Creating an object of the Mansion class\n",
        "mansion = Mansion(\"123 Luxury St\", 5000000, 10)\n",
        "\n",
        "# Displaying information\n",
        "mansion.display_info()\n",
        "\n",
        "\n"
      ],
      "metadata": {
        "colab": {
          "base_uri": "https://localhost:8080/"
        },
        "id": "pwap6WnL_tZX",
        "outputId": "a8cf3b18-1a09-4c9e-84ef-aaf7cfc1b437"
      },
      "execution_count": 20,
      "outputs": [
        {
          "output_type": "stream",
          "name": "stdout",
          "text": [
            "Address: 123 Luxury St\n",
            "Price: $5000000\n",
            "Number of Rooms: 10\n"
          ]
        }
      ]
    }
  ]
}